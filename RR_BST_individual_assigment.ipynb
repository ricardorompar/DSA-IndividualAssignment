{
  "cells": [
    {
      "cell_type": "code",
      "execution_count": 5,
      "metadata": {
        "id": "FNEF7yip6Wgv"
      },
      "outputs": [],
      "source": [
        "class Node:\n",
        "\n",
        "    def __init__(self, data, parent):\n",
        "        self.data = data\n",
        "        self.parent = parent\n",
        "        self.right_node = None\n",
        "        self.left_node = None"
      ]
    },
    {
      "cell_type": "code",
      "execution_count": 271,
      "metadata": {
        "id": "2m1dz8x76nos"
      },
      "outputs": [],
      "source": [
        "class BinarySearchTree:\n",
        "\n",
        "    def __init__(self):\n",
        "        self.root = None\n",
        "\n",
        "    def remove(self, data):\n",
        "        if self.root:\n",
        "            self.remove_node(data, self.root)\n",
        "\n",
        "    def insert(self, data):\n",
        "        if self.root is None:\n",
        "            self.root = Node(data, None) #if its the root it has no parent\n",
        "        else:\n",
        "            self.insert_node(data, self.root)\n",
        "\n",
        "    def insert_node(self, data, node):\n",
        "        # we have to go to the left subtree\n",
        "        if data < node.data:\n",
        "            if node.left_node:\n",
        "                self.insert_node(data, node.left_node)\n",
        "            else:\n",
        "                node.left_node = Node(data, node)\n",
        "        # we have to visit the right subtree\n",
        "        else:\n",
        "            if node.right_node:\n",
        "                self.insert_node(data, node.right_node)\n",
        "            else:\n",
        "                node.right_node = Node(data, node)\n",
        "\n",
        "    def remove_node(self, data, node):\n",
        "        if node is None:\n",
        "            return None #Means the node was not found\n",
        "        \n",
        "        # If the data to be deleted is smaller than the node value then it is in the left subtree\n",
        "        if data < node.data:\n",
        "            node.left_node = self.remove_node(data, node.left_node)\n",
        "\n",
        "        # If right subtree\n",
        "        elif data > node.data:\n",
        "            node.right_node = self.remove_node(data, node.right_node)\n",
        "\n",
        "        #Found it! Now there are options:\n",
        "        else:\n",
        "            # Node with only one child or no child\n",
        "            if node.left_node is None:\n",
        "                return node.right_node\n",
        "            elif node.right_node is None:   #If neither the right nor the left children nodes are None means it has both! and we go to the part below...\n",
        "                return node.left_node\n",
        "\n",
        "            # Node with two children: Get the predecessor (largest in the left subtree)\n",
        "            temp = self.get_predecessor(node.left_node)\n",
        "            node.data = temp.data\n",
        "            node.left_node = self.remove_node(temp.data, node.left_node)\n",
        "        return node\n",
        "\n",
        "    def get_predecessor(self, node):\n",
        "        current = node\n",
        "        while current.right_node is not None:\n",
        "            current = current.right_node\n",
        "        return current\n",
        "\n",
        "    def traverse(self):\n",
        "        #using in order traversal\n",
        "        if self.root:\n",
        "            self.inorder_traverse(self.root)\n",
        "\n",
        "    def inorder_traverse(self, node):\n",
        "        if node:    #if the node is none, either right or left, means the parent was a leaf.\n",
        "            self.inorder_traverse(node.left_node)   #keep going left because its in ascending order\n",
        "            print(node.data)    #print the value and move to the right\n",
        "            self.inorder_traverse(node.right_node)\n",
        "    \n",
        "    #I also implemented a print function to visualize the tree:\n",
        "    def not_so_pretty_print(self):\n",
        "        if not self.root:\n",
        "            print(\"Tree is empty\")\n",
        "            return\n",
        "\n",
        "        # Initialize a queue for level order traversal\n",
        "        queue = [(self.root, 0)]\n",
        "        prev_level = -1\n",
        "\n",
        "        while queue:\n",
        "            node, level = queue.pop(0)\n",
        "\n",
        "            # Printing level change\n",
        "            if level != prev_level:\n",
        "                print(\"\\nLevel\", level, end=\": \")\n",
        "                prev_level = level\n",
        "\n",
        "            # Print current node\n",
        "            print(node.data, \" \", end=\" \")\n",
        "\n",
        "            # Enqueue left child\n",
        "            if node.left_node:\n",
        "                queue.append((node.left_node, level + 1))\n",
        "\n",
        "            # Enqueue right child\n",
        "            if node.right_node:\n",
        "                queue.append((node.right_node, level + 1))\n",
        "        print()\n",
        "        print()\n",
        "            \n"
      ]
    },
    {
      "cell_type": "markdown",
      "metadata": {},
      "source": [
        "Testing the insert and traverse functions:"
      ]
    },
    {
      "cell_type": "code",
      "execution_count": 272,
      "metadata": {},
      "outputs": [
        {
          "name": "stdout",
          "output_type": "stream",
          "text": [
            "0\n",
            "1\n",
            "2\n",
            "3\n",
            "4\n",
            "5\n",
            "6\n",
            "7\n",
            "8\n"
          ]
        }
      ],
      "source": [
        "BST1 = BinarySearchTree()\n",
        "BST1.insert(2)\n",
        "BST1.insert(8)\n",
        "BST1.insert(3)\n",
        "BST1.insert(1)\n",
        "BST1.insert(4)\n",
        "BST1.insert(7)\n",
        "BST1.insert(5)\n",
        "BST1.insert(6)\n",
        "BST1.insert(0)\n",
        "BST1.traverse()"
      ]
    },
    {
      "cell_type": "markdown",
      "metadata": {},
      "source": [
        "Testing the remove"
      ]
    },
    {
      "cell_type": "code",
      "execution_count": 273,
      "metadata": {},
      "outputs": [
        {
          "name": "stdout",
          "output_type": "stream",
          "text": [
            "0\n",
            "1\n",
            "2\n",
            "3\n",
            "4\n",
            "5\n",
            "6\n",
            "8\n"
          ]
        }
      ],
      "source": [
        "BST1.remove(7)\n",
        "BST1.remove(21)\n",
        "BST1.traverse()"
      ]
    },
    {
      "cell_type": "markdown",
      "metadata": {},
      "source": [
        "It does remove it. But now I want to see how the tree looks like every time I add elements. That's what the not_so_pretty_print() function is for"
      ]
    },
    {
      "cell_type": "code",
      "execution_count": 274,
      "metadata": {},
      "outputs": [
        {
          "name": "stdout",
          "output_type": "stream",
          "text": [
            "Traverse:\n",
            "-19\n",
            "-7\n",
            "2\n",
            "3\n",
            "5\n",
            "11\n",
            "13\n",
            "91\n",
            "137\n",
            "1997\n",
            "\n",
            "Tree:\n",
            "\n",
            "Level 0: 2   \n",
            "Level 1: -7   5   \n",
            "Level 2: -19   3   1997   \n",
            "Level 3: 137   \n",
            "Level 4: 13   \n",
            "Level 5: 11   91   \n",
            "\n"
          ]
        }
      ],
      "source": [
        "BST2 = BinarySearchTree()\n",
        "BST2.insert(2)\n",
        "BST2.insert(5)\n",
        "BST2.insert(3)\n",
        "BST2.insert(1997)\n",
        "BST2.insert(137)\n",
        "BST2.insert(-7)\n",
        "BST2.insert(-19)\n",
        "BST2.insert(13)\n",
        "BST2.insert(91)\n",
        "BST2.insert(11)\n",
        "print(\"Traverse:\")\n",
        "BST2.traverse()\n",
        "print()\n",
        "print(\"Tree:\")\n",
        "BST2.not_so_pretty_print()"
      ]
    },
    {
      "cell_type": "code",
      "execution_count": 275,
      "metadata": {},
      "outputs": [
        {
          "name": "stdout",
          "output_type": "stream",
          "text": [
            "\n",
            "Level 0: 2   \n",
            "Level 1: -7   5   \n",
            "Level 2: -19   3   137   \n",
            "Level 3: 13   \n",
            "Level 4: 11   91   \n",
            "\n",
            "Traverse:\n",
            "-19\n",
            "-7\n",
            "2\n",
            "3\n",
            "5\n",
            "11\n",
            "13\n",
            "91\n",
            "137\n"
          ]
        }
      ],
      "source": [
        "BST2.remove(1997)\n",
        "BST2.not_so_pretty_print()\n",
        "print(\"Traverse:\")\n",
        "BST2.traverse()"
      ]
    },
    {
      "cell_type": "markdown",
      "metadata": {},
      "source": [
        "Let's see if I can remove everything:"
      ]
    },
    {
      "cell_type": "code",
      "execution_count": 276,
      "metadata": {},
      "outputs": [
        {
          "name": "stdout",
          "output_type": "stream",
          "text": [
            "Tree 1:\n",
            "----------\n",
            "Tree 2:\n",
            "-19\n",
            "-7\n",
            "2\n",
            "5\n",
            "11\n",
            "13\n",
            "91\n",
            "137\n"
          ]
        }
      ],
      "source": [
        "BST1.root = None    #Deleted! - If i disconnect the root, the whole tree is inaccessible and basically deleted.\n",
        "print(\"Tree 1:\")\n",
        "BST1.traverse()\n",
        "print(\"----------\")\n",
        "print(\"Tree 2:\")\n",
        "BST2.remove(3)\n",
        "BST2.traverse()"
      ]
    },
    {
      "cell_type": "markdown",
      "metadata": {},
      "source": [
        "### Bibliography:\n",
        "Traversing: https://codedamn.com/news/programming/binary-trees-explained-traversal-techniques-applications\n",
        "\n",
        "Node deletion: https://prepinsta.com/data-structures-and-algorithms-in-python/deletion-in-binary-search-tree/\n",
        "\n",
        "Predecessor: https://cppsecrets.com/users/16210010110111246103971101001041055557575664103109971051084699111109/Python-program-to-find-inorder-predecessor-and-successor-for-a-given-key-in-binary-search-tree-with-recursion.php"
      ]
    }
  ],
  "metadata": {
    "colab": {
      "provenance": []
    },
    "kernelspec": {
      "display_name": "Python 3",
      "name": "python3"
    },
    "language_info": {
      "codemirror_mode": {
        "name": "ipython",
        "version": 3
      },
      "file_extension": ".py",
      "mimetype": "text/x-python",
      "name": "python",
      "nbconvert_exporter": "python",
      "pygments_lexer": "ipython3",
      "version": "3.11.5"
    }
  },
  "nbformat": 4,
  "nbformat_minor": 0
}
