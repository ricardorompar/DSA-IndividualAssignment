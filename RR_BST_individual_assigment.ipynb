{
  "cells": [
    {
      "cell_type": "code",
      "execution_count": 5,
      "metadata": {
        "id": "FNEF7yip6Wgv"
      },
      "outputs": [],
      "source": [
        "class Node:\n",
        "\n",
        "    def __init__(self, data, parent):\n",
        "        self.data = data\n",
        "        self.parent = parent\n",
        "        self.right_node = None\n",
        "        self.left_node = None"
      ]
    },
    {
      "cell_type": "code",
      "execution_count": 25,
      "metadata": {
        "id": "2m1dz8x76nos"
      },
      "outputs": [],
      "source": [
        "class BinarySearchTree:\n",
        "\n",
        "    def __init__(self):\n",
        "        self.root = None\n",
        "\n",
        "    def remove(self, data):\n",
        "        if self.root:\n",
        "            self.remove_node(data, self.root)\n",
        "\n",
        "    def insert(self, data):\n",
        "        if self.root is None:\n",
        "            self.root = Node(data, None) #if its the root it has no parent\n",
        "        else:\n",
        "            self.insert_node(data, self.root)\n",
        "\n",
        "    def insert_node(self, data, node):\n",
        "        # we have to go to the left subtree\n",
        "        if data < node.data:\n",
        "            if node.left_node:\n",
        "                self.insert_node(data, node.left_node)\n",
        "            else:\n",
        "                node.left_node = Node(data, node)\n",
        "        # we have to visit the right subtree\n",
        "        else:\n",
        "            if node.right_node:\n",
        "                self.insert_node(data, node.right_node)\n",
        "            else:\n",
        "                node.right_node = Node(data, node)\n",
        "\n",
        "    def remove_node(self, data, node):\n",
        "        if node is None:\n",
        "            return None #Means the node was not found\n",
        "        \n",
        "        # If the data to be deleted is smaller than the node value then it is in the left subtree\n",
        "        if data < node.data:\n",
        "            node.left_node = self.remove_node(data, node.left_node)\n",
        "\n",
        "        # If right subtree\n",
        "        elif data > node.data:\n",
        "            node.right_node = self.remove_node(data, node.right_node)\n",
        "\n",
        "        #Found it! Now there are options:\n",
        "        else:\n",
        "            # Node with only one child or no child\n",
        "            if node.left_node is None:\n",
        "                return node.right_node\n",
        "            elif node.right_node is None:   #If neither the right nor the left children nodes are None means it has both! and we go to the part below...\n",
        "                return node.left_node\n",
        "\n",
        "            # Node with two children: Get the predecessor (largest in the left subtree)\n",
        "            temp = self.get_predecessor(node.left_node)\n",
        "            node.data = temp.data\n",
        "            node.left_node = self.remove_node(temp.data, node.left_node)  \n",
        "\n",
        "        return node\n",
        "\n",
        "\n",
        "    def get_predecessor(self, node):\n",
        "        current = node\n",
        "        while current.right_node is not None:\n",
        "            current = current.right_node\n",
        "        return current\n",
        "\n",
        "\n",
        "    def traverse(self):\n",
        "        #using in order traversal\n",
        "        if self.root:\n",
        "            self.inorder_traverse(self.root)\n",
        "\n",
        "    def inorder_traverse(self, node):\n",
        "        if node:    #if the node is none, either right or left, means the parent was a leaf.\n",
        "            self.inorder_traverse(node.left_node)   #keep going left because its in ascending order\n",
        "            print(node.data)    #print the value and move to the right\n",
        "            self.inorder_traverse(node.right_node)\n",
        "        \n",
        "            \n"
      ]
    },
    {
      "cell_type": "code",
      "execution_count": 32,
      "metadata": {},
      "outputs": [
        {
          "name": "stdout",
          "output_type": "stream",
          "text": [
            "0\n",
            "1\n",
            "2\n",
            "3\n",
            "4\n",
            "5\n",
            "6\n",
            "7\n",
            "8\n",
            "========\n",
            "0\n",
            "1\n",
            "2\n",
            "3\n",
            "4\n",
            "5\n",
            "6\n",
            "8\n"
          ]
        }
      ],
      "source": [
        "BST1 = BinarySearchTree()\n",
        "BST1.insert(2)\n",
        "BST1.insert(8)\n",
        "BST1.insert(3)\n",
        "BST1.insert(1)\n",
        "BST1.insert(4)\n",
        "BST1.insert(7)\n",
        "BST1.insert(5)\n",
        "BST1.insert(6)\n",
        "BST1.insert(0)\n",
        "BST1.traverse()\n",
        "print(\"========\")\n",
        "BST1.remove(7)\n",
        "BST1.traverse()"
      ]
    },
    {
      "cell_type": "code",
      "execution_count": 33,
      "metadata": {},
      "outputs": [
        {
          "name": "stdout",
          "output_type": "stream",
          "text": [
            "0\n",
            "4\n",
            "5\n",
            "7\n",
            "9\n",
            "========\n",
            "0\n",
            "5\n",
            "7\n",
            "9\n"
          ]
        }
      ],
      "source": [
        "BST1 = BinarySearchTree()\n",
        "BST1.insert(7)\n",
        "BST1.insert(4)\n",
        "BST1.insert(9)\n",
        "BST1.insert(0)\n",
        "BST1.insert(5)\n",
        "BST1.traverse()\n",
        "print(\"========\")\n",
        "BST1.remove(4)\n",
        "BST1.traverse()"
      ]
    },
    {
      "cell_type": "markdown",
      "metadata": {
        "id": "NNYA_2BdceG_"
      },
      "source": [
        "### **Define the delete node method**"
      ]
    },
    {
      "cell_type": "markdown",
      "metadata": {
        "id": "QSkJoCtyc2bC"
      },
      "source": [
        "### **Define the get predecessor node method**"
      ]
    },
    {
      "cell_type": "markdown",
      "metadata": {
        "id": "iYvgSCXAc3Dc"
      },
      "source": [
        "### **Define the traverse method**"
      ]
    },
    {
      "cell_type": "markdown",
      "metadata": {},
      "source": [
        "### Bibliography:\n",
        "Traversing: https://codedamn.com/news/programming/binary-trees-explained-traversal-techniques-applications\n",
        "\n",
        "Node deletion: https://prepinsta.com/data-structures-and-algorithms-in-python/deletion-in-binary-search-tree/\n",
        "\n",
        "Predecessor: https://cppsecrets.com/users/16210010110111246103971101001041055557575664103109971051084699111109/Python-program-to-find-inorder-predecessor-and-successor-for-a-given-key-in-binary-search-tree-with-recursion.php"
      ]
    }
  ],
  "metadata": {
    "colab": {
      "provenance": []
    },
    "kernelspec": {
      "display_name": "Python 3",
      "name": "python3"
    },
    "language_info": {
      "codemirror_mode": {
        "name": "ipython",
        "version": 3
      },
      "file_extension": ".py",
      "mimetype": "text/x-python",
      "name": "python",
      "nbconvert_exporter": "python",
      "pygments_lexer": "ipython3",
      "version": "3.11.5"
    }
  },
  "nbformat": 4,
  "nbformat_minor": 0
}
