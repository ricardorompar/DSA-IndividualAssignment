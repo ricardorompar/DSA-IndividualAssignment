{
  "cells": [
    {
      "cell_type": "code",
      "execution_count": 1,
      "metadata": {
        "id": "FNEF7yip6Wgv"
      },
      "outputs": [],
      "source": [
        "class Node:\n",
        "\n",
        "    def __init__(self, data, parent):\n",
        "        self.data = data\n",
        "        self.parent = parent\n",
        "        self.right_node = None\n",
        "        self.left_node = None"
      ]
    },
    {
      "cell_type": "code",
      "execution_count": 29,
      "metadata": {
        "id": "2m1dz8x76nos"
      },
      "outputs": [],
      "source": [
        "class BinarySearchTree:\n",
        "\n",
        "    def __init__(self):\n",
        "        self.root = None\n",
        "\n",
        "    def remove(self, data):\n",
        "        if self.root:\n",
        "            self.remove_node(data, self.root)\n",
        "\n",
        "    def insert(self, data):\n",
        "        if self.root is None:\n",
        "            self.root = Node(data, None) #if its the root it has no parent\n",
        "        else:\n",
        "            self.insert_node(data, self.root)\n",
        "\n",
        "    def insert_node(self, data, node):\n",
        "        # we have to go to the left subtree\n",
        "        if data < node.data:\n",
        "            if node.left_node:\n",
        "                self.insert_node(data, node.left_node)\n",
        "            else:\n",
        "                node.left_node = Node(data, node)\n",
        "        # we have to visit the right subtree\n",
        "        else:\n",
        "            if node.right_node:\n",
        "                self.insert_node(data, node.right_node)\n",
        "            else:\n",
        "                node.right_node = Node(data, node)\n",
        "\n",
        "    def remove_node(self, data, node):\n",
        "        # If the data to be deleted is smaller than the node value,\n",
        "        # then it lies in the left subtree\n",
        "        if data < node.data:\n",
        "            node.left = self.remove_node(data, node.left_node)\n",
        "\n",
        "        # If the data to be deleted is greater than the node value\n",
        "        elif data > node.data:\n",
        "            node.right = self.remove_node(data, node.right_node)\n",
        "\n",
        "\n",
        "    def get_predecessor(self, node):\n",
        "        return self.largest(node.left)\n",
        "\n",
        "    def largest(self, node):\n",
        "        if node.right:\n",
        "            return self.largest(node.right)\n",
        "\n",
        "    def traverse(self):\n",
        "        #using in order traversal\n",
        "        if self.root:\n",
        "            self.inorder_traverse(self.root)\n",
        "\n",
        "    def inorder_traverse(self, node):\n",
        "        if node:    #if the node is none, either right or left, means the parent was a leaf.\n",
        "            self.inorder_traverse(node.left_node)   #keep going left because its in ascending order\n",
        "            print(node.data)    #print the value and move to the right\n",
        "            self.inorder_traverse(node.right_node)\n",
        "        \n",
        "            \n"
      ]
    },
    {
      "cell_type": "code",
      "execution_count": 30,
      "metadata": {},
      "outputs": [
        {
          "ename": "AttributeError",
          "evalue": "'int' object has no attribute 'left'",
          "output_type": "error",
          "traceback": [
            "\u001b[0;31m---------------------------------------------------------------------------\u001b[0m",
            "\u001b[0;31mAttributeError\u001b[0m                            Traceback (most recent call last)",
            "\u001b[1;32m/home/ricardorompar/IE-master/dataStructures/individualAssignment/RR_BST_individual_assigment.ipynb Cell 3\u001b[0m line \u001b[0;36m8\n\u001b[1;32m      <a href='vscode-notebook-cell://wsl%2Bubuntu/home/ricardorompar/IE-master/dataStructures/individualAssignment/RR_BST_individual_assigment.ipynb#X10sdnNjb2RlLXJlbW90ZQ%3D%3D?line=5'>6</a>\u001b[0m BST1\u001b[39m.\u001b[39minsert(\u001b[39m-\u001b[39m\u001b[39m1\u001b[39m)\n\u001b[1;32m      <a href='vscode-notebook-cell://wsl%2Bubuntu/home/ricardorompar/IE-master/dataStructures/individualAssignment/RR_BST_individual_assigment.ipynb#X10sdnNjb2RlLXJlbW90ZQ%3D%3D?line=6'>7</a>\u001b[0m BST1\u001b[39m.\u001b[39mremove(\u001b[39m2\u001b[39m)\n\u001b[0;32m----> <a href='vscode-notebook-cell://wsl%2Bubuntu/home/ricardorompar/IE-master/dataStructures/individualAssignment/RR_BST_individual_assigment.ipynb#X10sdnNjb2RlLXJlbW90ZQ%3D%3D?line=7'>8</a>\u001b[0m BST1\u001b[39m.\u001b[39mget_predecessor(\u001b[39m8\u001b[39m)\n\u001b[1;32m      <a href='vscode-notebook-cell://wsl%2Bubuntu/home/ricardorompar/IE-master/dataStructures/individualAssignment/RR_BST_individual_assigment.ipynb#X10sdnNjb2RlLXJlbW90ZQ%3D%3D?line=8'>9</a>\u001b[0m BST1\u001b[39m.\u001b[39mtraverse()\n",
            "\u001b[1;32m/home/ricardorompar/IE-master/dataStructures/individualAssignment/RR_BST_individual_assigment.ipynb Cell 3\u001b[0m line \u001b[0;36m4\n\u001b[1;32m     <a href='vscode-notebook-cell://wsl%2Bubuntu/home/ricardorompar/IE-master/dataStructures/individualAssignment/RR_BST_individual_assigment.ipynb#X10sdnNjb2RlLXJlbW90ZQ%3D%3D?line=40'>41</a>\u001b[0m \u001b[39mdef\u001b[39;00m \u001b[39mget_predecessor\u001b[39m(\u001b[39mself\u001b[39m, node):\n\u001b[0;32m---> <a href='vscode-notebook-cell://wsl%2Bubuntu/home/ricardorompar/IE-master/dataStructures/individualAssignment/RR_BST_individual_assigment.ipynb#X10sdnNjb2RlLXJlbW90ZQ%3D%3D?line=41'>42</a>\u001b[0m     \u001b[39mreturn\u001b[39;00m \u001b[39mself\u001b[39m\u001b[39m.\u001b[39mlargest(node\u001b[39m.\u001b[39mleft)\n",
            "\u001b[0;31mAttributeError\u001b[0m: 'int' object has no attribute 'left'"
          ]
        }
      ],
      "source": [
        "BST1 = BinarySearchTree()\n",
        "BST1.insert(7)\n",
        "BST1.insert(8)\n",
        "BST1.insert(2)\n",
        "BST1.insert(-10)\n",
        "BST1.insert(-1)\n",
        "BST1.remove(2)\n",
        "BST1.get_predecessor(8)\n",
        "BST1.traverse()"
      ]
    },
    {
      "cell_type": "markdown",
      "metadata": {
        "id": "NNYA_2BdceG_"
      },
      "source": [
        "## **Define the delete node method**"
      ]
    },
    {
      "cell_type": "markdown",
      "metadata": {
        "id": "QSkJoCtyc2bC"
      },
      "source": [
        "## **Define the get predecessor node method**"
      ]
    },
    {
      "cell_type": "markdown",
      "metadata": {
        "id": "iYvgSCXAc3Dc"
      },
      "source": [
        "## **Define the traverse method**"
      ]
    },
    {
      "cell_type": "markdown",
      "metadata": {},
      "source": [
        "Inspiration for the code found in https://codedamn.com/news/programming/binary-trees-explained-traversal-techniques-applications"
      ]
    }
  ],
  "metadata": {
    "colab": {
      "provenance": []
    },
    "kernelspec": {
      "display_name": "Python 3",
      "name": "python3"
    },
    "language_info": {
      "codemirror_mode": {
        "name": "ipython",
        "version": 3
      },
      "file_extension": ".py",
      "mimetype": "text/x-python",
      "name": "python",
      "nbconvert_exporter": "python",
      "pygments_lexer": "ipython3",
      "version": "3.11.5"
    }
  },
  "nbformat": 4,
  "nbformat_minor": 0
}
